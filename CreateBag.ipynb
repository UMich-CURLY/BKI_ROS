{
 "cells": [
  {
   "cell_type": "code",
   "execution_count": 1,
   "id": "a8983d3e",
   "metadata": {},
   "outputs": [],
   "source": [
    "import sys\n",
    "import os\n",
    "import tf\n",
    "import cv2\n",
    "import rospy\n",
    "import rosbag\n",
    "import progressbar\n",
    "from tf2_msgs.msg import TFMessage\n",
    "from datetime import datetime\n",
    "from std_msgs.msg import Header\n",
    "from sensor_msgs.msg import CameraInfo, Imu, PointField, NavSatFix\n",
    "import sensor_msgs.point_cloud2 as pcl2\n",
    "from geometry_msgs.msg import TransformStamped, TwistStamped, Transform, PoseStamped\n",
    "from cv_bridge import CvBridge\n",
    "import numpy as np\n",
    "import argparse"
   ]
  },
  {
   "cell_type": "code",
   "execution_count": 2,
   "id": "a0962e29",
   "metadata": {},
   "outputs": [],
   "source": [
    "try:\n",
    "    import pykitti\n",
    "except ImportError as e:\n",
    "    print('Could not load module \\'pykitti\\'. Please run `pip install pykitti`')\n",
    "    sys.exit(1)"
   ]
  },
  {
   "cell_type": "code",
   "execution_count": 3,
   "id": "76408266",
   "metadata": {},
   "outputs": [],
   "source": [
    "def save_velo_data(bag, dpath, topic, max_num=500):\n",
    "    print(\"Exporting velodyne data\")\n",
    "    velo_filenames = sorted(os.listdir(dpath))[:max_num]\n",
    "    times = np.arange(len(velo_filenames)) * 0.1\n",
    "\n",
    "    iterable = zip(times, velo_filenames)\n",
    "    bar = progressbar.ProgressBar()\n",
    "    i = 0\n",
    "    for dt, filename in bar(iterable):\n",
    "        velo_filename = os.path.join(dpath, filename)\n",
    "\n",
    "        # read binary data\n",
    "        scan = (np.fromfile(velo_filename, dtype=np.float32)).reshape(-1, 4)\n",
    "\n",
    "        # create header\n",
    "        header = Header()\n",
    "        header.frame_id = \"velo_link\"\n",
    "        header.stamp = rospy.Time.from_sec(times[i])\n",
    "\n",
    "        # fill pcl msg\n",
    "        fields = [PointField('x', 0, PointField.FLOAT32, 1),\n",
    "                  PointField('y', 4, PointField.FLOAT32, 1),\n",
    "                  PointField('z', 8, PointField.FLOAT32, 1),\n",
    "                  PointField('i', 12, PointField.FLOAT32, 1)]\n",
    "        pcl_msg = pcl2.create_cloud(header, fields, scan)\n",
    "\n",
    "        bag.write('/map_pointcloud', pcl_msg, t=pcl_msg.header.stamp)\n",
    "        i += 1"
   ]
  },
  {
   "cell_type": "code",
   "execution_count": 10,
   "id": "b2bde4eb",
   "metadata": {},
   "outputs": [],
   "source": [
    "def save_transforms(bag, dpath, topic, max_num=500, kitti=False):\n",
    "    fpath = os.path.join(dpath, \"poses.txt\")\n",
    "    poses = np.loadtxt(fpath)\n",
    "    \n",
    "    if kitti:\n",
    "        Tr_file = np.genfromtxt(os.path.join(dpath, 'calib.txt'))[-1, 1:]\n",
    "        Tr = np.zeros((4, 4))\n",
    "        Tr[3, 3] = 1\n",
    "        Tr[:3, :4] = Tr_file.reshape(3,4)\n",
    "        Tr = Tr.astype(np.float32)\n",
    "    \n",
    "    for i in range(max_num):\n",
    "        pose = np.zeros((4, 4))\n",
    "        pose[3, 3] = 1\n",
    "        pose[:3, :4] = poses[i,:].reshape(3, 4)\n",
    "        \n",
    "        if kitti:\n",
    "            pose = pose.astype(np.float32)\n",
    "            pose = np.matmul(np.linalg.inv(Tr), np.matmul(pose, Tr))\n",
    "            \n",
    "        \n",
    "        timestamp = 0.1 * i\n",
    "        \n",
    "        tf_stamped = PoseStamped()\n",
    "        tf_stamped.header.stamp = rospy.Time.from_sec(timestamp)\n",
    "        tf_stamped.header.frame_id = 'world'\n",
    "\n",
    "        t = pose[0:3, 3]\n",
    "        q = tf.transformations.quaternion_from_matrix(pose)\n",
    "\n",
    "        tf_stamped.pose.position.x = t[0]\n",
    "        tf_stamped.pose.position.y = t[1]\n",
    "        tf_stamped.pose.position.z = t[2]\n",
    "\n",
    "        tf_stamped.pose.orientation.x = q[0]\n",
    "        tf_stamped.pose.orientation.y = q[1]\n",
    "        tf_stamped.pose.orientation.z = q[2]\n",
    "        tf_stamped.pose.orientation.w = q[3]\n",
    "\n",
    "        bag.write('/map_pose', tf_stamped, t=tf_stamped.header.stamp)\n",
    "    "
   ]
  },
  {
   "cell_type": "code",
   "execution_count": 15,
   "id": "5eb3a39a",
   "metadata": {},
   "outputs": [],
   "source": [
    "def run_kitti2bag():\n",
    "    compression = rosbag.Compression.NONE\n",
    "    # bag = rosbag.Bag(\"kitti.bag\", 'w')\n",
    "    bag = rosbag.Bag(\"rellis.bag\", 'w')\n",
    "\n",
    "    # path = \"/home/tigeriv/Data/KITTI/dataset/04/\"\n",
    "    path = \"/home/tigeriv/Data/Rellis-3D/Val/00003/\"\n",
    "    \n",
    "    save_transforms(bag, path, \"/rellis\")\n",
    "    # save_transforms(bag, path, \"/kitti\", kitti=True)\n",
    "    \n",
    "    save_velo_data(bag, os.path.join(path, \"os1_cloud_node_kitti_bin/\"), \"/rellis\")\n",
    "    # save_velo_data(bag, os.path.join(path, \"velodyne/\"), \"/kitti\")\n",
    "\n",
    "\n",
    "    print(\"## OVERVIEW ##\")\n",
    "    print(bag)\n",
    "    bag.close()"
   ]
  },
  {
   "cell_type": "code",
   "execution_count": 16,
   "id": "fc0d4881",
   "metadata": {},
   "outputs": [
    {
     "name": "stderr",
     "output_type": "stream",
     "text": [
      "- | #                                                 | 1 Elapsed Time: 0:00:00"
     ]
    },
    {
     "name": "stdout",
     "output_type": "stream",
     "text": [
      "Exporting velodyne data\n"
     ]
    },
    {
     "name": "stderr",
     "output_type": "stream",
     "text": [
      "| |                           #                     | 499 Elapsed Time: 0:01:05\n"
     ]
    },
    {
     "name": "stdout",
     "output_type": "stream",
     "text": [
      "## OVERVIEW ##\n",
      "path:        rellis.bag\n",
      "version:     2.0\n",
      "duration:    49.9s\n",
      "start:       Dec 31 1969 19:00:00.00 (0.00)\n",
      "end:         Dec 31 1969 19:00:49.90 (49.90)\n",
      "size:        1000.2 MB\n",
      "messages:    1000\n",
      "compression: none [500/500 chunks]\n",
      "types:       geometry_msgs/PoseStamped [d3812c3cbc69362b77dc0b19b345f8f5]\n",
      "             sensor_msgs/PointCloud2   [1158d486dd51d683ce2f1be655c3c181]\n",
      "topics:      /map_pointcloud   500 msgs    : sensor_msgs/PointCloud2  \n",
      "             /map_pose         500 msgs    : geometry_msgs/PoseStamped\n"
     ]
    }
   ],
   "source": [
    "run_kitti2bag()"
   ]
  },
  {
   "cell_type": "code",
   "execution_count": null,
   "id": "9f62d04d",
   "metadata": {},
   "outputs": [],
   "source": []
  }
 ],
 "metadata": {
  "kernelspec": {
   "display_name": "Python 3 (ipykernel)",
   "language": "python",
   "name": "python3"
  },
  "language_info": {
   "codemirror_mode": {
    "name": "ipython",
    "version": 3
   },
   "file_extension": ".py",
   "mimetype": "text/x-python",
   "name": "python",
   "nbconvert_exporter": "python",
   "pygments_lexer": "ipython3",
   "version": "3.8.10"
  }
 },
 "nbformat": 4,
 "nbformat_minor": 5
}
