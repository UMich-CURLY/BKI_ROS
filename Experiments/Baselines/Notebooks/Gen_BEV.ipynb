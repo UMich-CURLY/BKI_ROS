{
 "cells": [
  {
   "cell_type": "code",
   "execution_count": 1,
   "id": "8e6eba72",
   "metadata": {},
   "outputs": [],
   "source": [
    "import numpy as np\n",
    "import os"
   ]
  },
  {
   "cell_type": "code",
   "execution_count": 2,
   "id": "56061aa4",
   "metadata": {},
   "outputs": [],
   "source": [
    "eval_size = [256, 256, 16]\n",
    "\n",
    "LABELS_REMAP = np.array([\n",
    "    0,  # Free\n",
    "    1,  # Building\n",
    "    2,  # Barrier\n",
    "    3,  # Other\n",
    "    4,  # Pedestrian\n",
    "    5,  # Pole or Traffic Light/Sign\n",
    "    6,  # Roadline -> Road\n",
    "    6,  # Road\n",
    "    8,  # Sidewalk\n",
    "    9,  # Vegetation\n",
    "    10,  # Vehicles\n",
    "    2,  # Wall -> Barrier\n",
    "    5,  # Traffic Sign -> Pole\n",
    "    3,  # Sky -> Other\n",
    "    7,  # Ground\n",
    "    3,  # Bridge -> Other\n",
    "    3,  # Railtrack -> Other\n",
    "    2,  # GuardRail -> Barrier\n",
    "    5,  # Traffic Light -> Pole\n",
    "    3,  # Static -> Other\n",
    "    3,  # Dynamic -> Other\n",
    "    3,  # Water -> Other\n",
    "    7,  # Terrain -> Ground\n",
    "])"
   ]
  },
  {
   "cell_type": "code",
   "execution_count": 3,
   "id": "6feab01e",
   "metadata": {},
   "outputs": [],
   "source": [
    "def form_bev(labels, counts):\n",
    "    bev_map = np.zeros((eval_size[0], eval_size[1]))\n",
    "    for x in range(eval_size[0]):\n",
    "        for y in range(eval_size[1]):\n",
    "            label_xy = None\n",
    "            for z in range(eval_size[2]-1, -1, -1):\n",
    "                count_z = counts[x, y, z]\n",
    "                if count_z != 0 and labels[x, y, z] != 0:\n",
    "                    intersected = True\n",
    "                    label_xy = labels[x, y, z]\n",
    "                    break\n",
    "            if label_xy:\n",
    "                remapped_xy = LABELS_REMAP[label_xy]\n",
    "                bev_map[x, y] = remapped_xy\n",
    "    return bev_map.astype(np.uint8)"
   ]
  },
  {
   "cell_type": "code",
   "execution_count": 4,
   "id": "c118893b",
   "metadata": {},
   "outputs": [],
   "source": [
    "file_path = \"/home/tigeriv/Data/Carla/Cartesian\"\n",
    "for split in [\"Train\", \"Val\", \"Test\"]:\n",
    "    split_path = os.path.join(file_path, split)\n",
    "    seqs = os.listdir(split_path)\n",
    "    for seq in seqs:\n",
    "        seq_path = os.path.join(split_path, seq)\n",
    "        bev_path = os.path.join(seq_path, \"cartesian\", \"bev_gt\")\n",
    "        if not os.path.exists(bev_path):\n",
    "            os.mkdir(bev_path)\n",
    "        eval_path = os.path.join(seq_path, \"cartesian\", \"evaluation_fine\")\n",
    "        files = os.listdir(eval_path)\n",
    "        num_files = (len(files) - 1) // 2\n",
    "        for i in range(num_files):\n",
    "            counts_file = os.path.join(eval_path, str(i).zfill(6) + \".bin\")\n",
    "            labels_file = os.path.join(eval_path, str(i).zfill(6) + \".label\")\n",
    "            \n",
    "            labels = np.fromfile(labels_file,dtype=np.uint8).reshape(eval_size)\n",
    "            counts = np.fromfile(counts_file,dtype=np.int8).reshape(eval_size)\n",
    "    \n",
    "            bev_map = form_bev(labels, counts)\n",
    "            bev_file = os.path.join(bev_path, str(i).zfill(6) + \".bin\")\n",
    "            bev_map.tofile(bev_file)"
   ]
  },
  {
   "cell_type": "code",
   "execution_count": null,
   "id": "76b60e3a",
   "metadata": {},
   "outputs": [],
   "source": []
  }
 ],
 "metadata": {
  "kernelspec": {
   "display_name": "Python 3 (ipykernel)",
   "language": "python",
   "name": "python3"
  },
  "language_info": {
   "codemirror_mode": {
    "name": "ipython",
    "version": 3
   },
   "file_extension": ".py",
   "mimetype": "text/x-python",
   "name": "python",
   "nbconvert_exporter": "python",
   "pygments_lexer": "ipython3",
   "version": "3.8.10"
  }
 },
 "nbformat": 4,
 "nbformat_minor": 5
}
