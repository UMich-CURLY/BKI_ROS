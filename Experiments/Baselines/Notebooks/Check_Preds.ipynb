{
 "cells": [
  {
   "cell_type": "code",
   "execution_count": 1,
   "id": "d8a9540d",
   "metadata": {},
   "outputs": [],
   "source": [
    "import numpy as np\n",
    "import os\n",
    "import seaborn as sns\n",
    "import matplotlib.pyplot as plt\n",
    "import time\n",
    "\n",
    "from PIL import Image as im"
   ]
  },
  {
   "cell_type": "code",
   "execution_count": 2,
   "id": "3edc41da",
   "metadata": {},
   "outputs": [],
   "source": [
    "file_path = \"/home/tigeriv/Data/Carla/Cartesian/Test/Town10_Medium/cartesian/ConvBKI/\"\n",
    "# file_path = \"/home/tigeriv/Data/KITTI/dataset/sequences/08/ConvBKIKITTI/\"\n",
    "# file_path = \"/home/tigeriv/Data/KITTI/dataset/sequences/08/ConvBKIKITTI_Transfer/\"\n",
    "# eval_size = (256, 256, 64)\n",
    "\n",
    "KITTI_COLOR = True"
   ]
  },
  {
   "cell_type": "code",
   "execution_count": 3,
   "id": "79e75c2b",
   "metadata": {},
   "outputs": [],
   "source": [
    "COLOR_MAP = {\n",
    "    0: np.asarray([255, 255, 255]), # Free\n",
    "    1: np.asarray([255, 255, 255]), # Building\n",
    "    2: np.asarray([255, 255, 255]), # Barrier\n",
    "    3: np.asarray([255, 255, 255]), # Other\n",
    "    4: np.asarray([255, 255, 255]), # Pedestrian\n",
    "    5: np.asarray([255, 255, 255]), # Pole\n",
    "    6: np.asarray([255, 255, 255]), # Road\n",
    "    7: np.asarray([255, 255, 255]), # Ground\n",
    "    8: np.asarray([255, 255, 255]), # Sidewalk\n",
    "    9: np.asarray([255, 255, 255]), # Vegetation\n",
    "    10: np.asarray([255, 255, 255]) # Vehicle\n",
    "}\n",
    "\n",
    "LABEL_COLORS = np.array([\n",
    "    (255, 255, 255), # None\n",
    "    (70, 70, 70),    # Building\n",
    "    (100, 40, 40),   # Fences\n",
    "    (55, 90, 80),    # Other\n",
    "    (255, 255, 0),   # Pedestrian\n",
    "    (153, 153, 153), # Pole\n",
    "    (0, 0, 255),  # Road\n",
    "    (100, 100, 100),  # Ground\n",
    "    (150, 10, 10),  # Sidewalk\n",
    "    (0, 155, 0),  # Vegetation\n",
    "    (255, 0, 0)     # Vehicle\n",
    "]).astype(np.uint8)"
   ]
  },
  {
   "cell_type": "code",
   "execution_count": 4,
   "id": "7b7f8326",
   "metadata": {},
   "outputs": [
    {
     "name": "stdout",
     "output_type": "stream",
     "text": [
      "[[1.         1.         1.        ]\n",
      " [0.         0.78431373 1.        ]\n",
      " [0.39215686 0.15686275 0.15686275]\n",
      " [0.21568627 0.35294118 0.31372549]\n",
      " [0.35294118 0.11764706 0.58823529]\n",
      " [0.         0.         1.        ]\n",
      " [1.         0.         1.        ]\n",
      " [0.31372549 0.94117647 0.58823529]\n",
      " [0.29411765 0.         0.29411765]\n",
      " [0.         0.68627451 0.        ]\n",
      " [0.96078431 0.58823529 0.39215686]]\n"
     ]
    }
   ],
   "source": [
    "KITTI_COLORS = np.array([\n",
    "    (  255,   255,   255,),\n",
    "    (245, 150, 100,),\n",
    "    (245, 230, 100,),\n",
    "    (150,  60,  30,),\n",
    "    (180,  30,  80,),\n",
    "    (250,  80, 100,),\n",
    "    ( 30,  30, 255,),\n",
    "    (200,  40, 255,),\n",
    "    ( 90,  30, 150,),\n",
    "    (255,   0, 255,),\n",
    "    (255, 150, 255,),\n",
    "    ( 75,   0,  75,),\n",
    "    ( 75,   0, 175,),\n",
    "    (  0, 200, 255,),\n",
    "    ( 50, 120, 255,),\n",
    "    (  0, 175,   0,),\n",
    "    (  0,  60, 135,),\n",
    "    ( 80, 240, 150,),\n",
    "    (150, 240, 255,),\n",
    "    (  0,   0, 255,),\n",
    "]).astype(np.uint8)\n",
    "\n",
    "kitti_to_carla = {\n",
    "    0: 0,\n",
    "    1: 10,\n",
    "    2: 10,\n",
    "    3: 10,\n",
    "    4: 10,\n",
    "    5: 10,\n",
    "    6: 4,\n",
    "    7: 4,\n",
    "    8: 4,\n",
    "    9: 6,\n",
    "    10: 6,\n",
    "    11: 8,\n",
    "    12: 7,\n",
    "    13: 1,\n",
    "    14: 9,\n",
    "    15: 9,\n",
    "    16: 7,\n",
    "    17: 7,\n",
    "    18: 5,\n",
    "    19: 5\n",
    "}\n",
    "\n",
    "if KITTI_COLOR:\n",
    "    for kitti_i in kitti_to_carla.keys():\n",
    "        carla_i = kitti_to_carla[kitti_i]\n",
    "        kitti_color_i = KITTI_COLORS[kitti_i]\n",
    "        LABEL_COLORS[carla_i, :] = KITTI_COLORS[kitti_i, :]\n",
    "    LABEL_COLORS[6, :] = KITTI_COLORS[9, :]\n",
    "    LABEL_COLORS[7, :] = KITTI_COLORS[17, :]\n",
    "    LABEL_COLORS[10, :] = KITTI_COLORS[1, :]\n",
    "    LABEL_COLORS[0, :] = np.asarray([255, 255, 255])\n",
    "print(LABEL_COLORS/255)"
   ]
  },
  {
   "cell_type": "code",
   "execution_count": 11,
   "id": "59bc9974",
   "metadata": {},
   "outputs": [],
   "source": [
    "# Form BEV\n",
    "def form_bev(labels, counts):\n",
    "    bev_map = np.zeros((eval_size[0], eval_size[1]))\n",
    "    for x in range(eval_size[0]):\n",
    "        for y in range(eval_size[1]):\n",
    "            label_xy = None\n",
    "            for z in range(eval_size[2]-1, -1, -1):\n",
    "                count_z = counts[x, y, z]\n",
    "                if count_z != 0 and labels[x, y, z] != 0:\n",
    "                    intersected = True\n",
    "                    label_xy = labels[x, y, z]\n",
    "                    break\n",
    "            if label_xy:\n",
    "                remapped_xy = LABELS_REMAP[label_xy]\n",
    "                bev_map[x, y] = remapped_xy\n",
    "    return bev_map\n",
    "\n",
    "def plot_bev(bev_map):\n",
    "    plt.figure()\n",
    "    ax = sns.heatmap(bev_map, cmap=\"YlGnBu\", xticklabels=False, yticklabels=False)\n",
    "    ax.invert_yaxis()\n",
    "    ax.set_xlabel(\"X\")\n",
    "    ax.set_ylabel(\"Y\")\n",
    "    plt.show()\n",
    "    \n",
    "def bev_img(bev_map):\n",
    "    colored_data = LABEL_COLORS[bev_map.astype(int)]\n",
    "    print(colored_data.shape)\n",
    "    img = im.fromarray(colored_data, 'RGB')\n",
    "    return img"
   ]
  },
  {
   "cell_type": "code",
   "execution_count": 12,
   "id": "e1181b45",
   "metadata": {},
   "outputs": [
    {
     "name": "stdout",
     "output_type": "stream",
     "text": [
      "(256, 256, 3)\n"
     ]
    }
   ],
   "source": [
    "save_dir = os.path.join(file_path, \"BEV\")\n",
    "if not os.path.exists(save_dir):\n",
    "    os.makedirs(save_dir)\n",
    "for i in range(0, 5000):\n",
    "    probs_file = os.path.join(file_path, str(i).zfill(6) + \".bin\")\n",
    "\n",
    "    bev_preds = np.fromfile(probs_file, dtype=np.float32).reshape(256, 256, 11)\n",
    "\n",
    "    bev_map = np.argmax(bev_preds, axis=2)\n",
    "\n",
    "    img = bev_img(bev_map)\n",
    "    save_path = os.path.join(save_dir, str(i) + \".png\")\n",
    "    break\n",
    "    img.save(save_path)\n",
    "    "
   ]
  },
  {
   "cell_type": "code",
   "execution_count": null,
   "id": "72215b5c",
   "metadata": {},
   "outputs": [],
   "source": []
  },
  {
   "cell_type": "code",
   "execution_count": null,
   "id": "8a0e16de",
   "metadata": {},
   "outputs": [],
   "source": []
  },
  {
   "cell_type": "code",
   "execution_count": null,
   "id": "0697ab47",
   "metadata": {},
   "outputs": [],
   "source": []
  }
 ],
 "metadata": {
  "kernelspec": {
   "display_name": "Python 3 (ipykernel)",
   "language": "python",
   "name": "python3"
  },
  "language_info": {
   "codemirror_mode": {
    "name": "ipython",
    "version": 3
   },
   "file_extension": ".py",
   "mimetype": "text/x-python",
   "name": "python",
   "nbconvert_exporter": "python",
   "pygments_lexer": "ipython3",
   "version": "3.8.10"
  }
 },
 "nbformat": 4,
 "nbformat_minor": 5
}
