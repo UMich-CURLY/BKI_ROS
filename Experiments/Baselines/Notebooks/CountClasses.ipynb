{
 "cells": [
  {
   "cell_type": "code",
   "execution_count": 3,
   "id": "1beb1f54",
   "metadata": {},
   "outputs": [],
   "source": [
    "import numpy as np\n",
    "import os"
   ]
  },
  {
   "cell_type": "code",
   "execution_count": 9,
   "id": "c1f359f0",
   "metadata": {},
   "outputs": [
    {
     "name": "stdout",
     "output_type": "stream",
     "text": [
      "[7.44142856e+08 3.51833310e+07 2.96952250e+07 1.62906910e+07\n",
      " 9.44402000e+05 1.97334900e+06 9.99634836e+08 4.12520478e+08\n",
      " 5.11734847e+08 5.24373460e+07 2.65978390e+07]\n"
     ]
    }
   ],
   "source": [
    "all_counts = np.zeros(11)\n",
    "for split in [\"Train\", \"Val\", \"Test\"]:\n",
    "    directory = \"/home/tigeriv/Data/Carla/Cartesian/\" + split\n",
    "\n",
    "    scenes = sorted(os.listdir(directory))\n",
    "    scenes = [os.path.join(scene, \"cartesian\") for scene in scenes]\n",
    "    bev_labels = []\n",
    "\n",
    "\n",
    "    for scene in scenes:\n",
    "        velodyne_dir = os.path.join(directory, scene, 'velodyne')\n",
    "        frames_list = [os.path.splitext(filename)[0] for filename in sorted(os.listdir(velodyne_dir))]\n",
    "        eval_dir = os.path.join(directory, scene, 'bev_gt')\n",
    "        bev_labels.extend([os.path.join(eval_dir, str(frame).zfill(6) + '.bin') for frame in frames_list])\n",
    "\n",
    "    for bev in bev_labels:\n",
    "        output = np.fromfile(bev, dtype=np.uint8).reshape(-1)\n",
    "        labels, counts = np.unique(output, return_counts=True)\n",
    "        all_counts[labels] = all_counts[labels] + counts\n",
    "\n",
    "print(all_counts)\n",
    "    "
   ]
  },
  {
   "cell_type": "code",
   "execution_count": null,
   "id": "0aa57b55",
   "metadata": {},
   "outputs": [],
   "source": []
  }
 ],
 "metadata": {
  "kernelspec": {
   "display_name": "Python 3 (ipykernel)",
   "language": "python",
   "name": "python3"
  },
  "language_info": {
   "codemirror_mode": {
    "name": "ipython",
    "version": 3
   },
   "file_extension": ".py",
   "mimetype": "text/x-python",
   "name": "python",
   "nbconvert_exporter": "python",
   "pygments_lexer": "ipython3",
   "version": "3.8.10"
  }
 },
 "nbformat": 4,
 "nbformat_minor": 5
}
