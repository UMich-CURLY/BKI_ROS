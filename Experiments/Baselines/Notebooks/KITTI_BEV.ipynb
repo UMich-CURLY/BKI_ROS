{
 "cells": [
  {
   "cell_type": "code",
   "execution_count": 1,
   "id": "e3d29bc3",
   "metadata": {},
   "outputs": [],
   "source": [
    "import numpy as np\n",
    "import os\n",
    "import seaborn as sns\n",
    "import matplotlib.pyplot as plt\n",
    "import yaml\n",
    "\n",
    "from PIL import Image as im\n",
    "from tqdm import tqdm"
   ]
  },
  {
   "cell_type": "code",
   "execution_count": 2,
   "id": "4570ac06",
   "metadata": {},
   "outputs": [],
   "source": [
    "eval_size = (256, 256, 32)\n",
    "\n",
    "LABEL_COLORS = np.array([\n",
    "    (255, 255, 255), # None\n",
    "    (70, 70, 70),    # Building\n",
    "    (100, 40, 40),   # Fences\n",
    "    (55, 90, 80),    # Other\n",
    "    (255, 255, 0),   # Pedestrian\n",
    "    (153, 153, 153), # Pole\n",
    "    (0, 0, 255),  # Road\n",
    "    (100, 100, 100),  # Ground\n",
    "    (150, 10, 10),  # Sidewalk\n",
    "    (0, 155, 0),  # Vegetation\n",
    "    (255, 0, 0)     # Vehicle\n",
    "]).astype(np.uint8)\n",
    "\n",
    "learning_map = {\n",
    "  0 : 0,     # \"unlabeled\"\n",
    "  1 : 0,     # \"outlier\" mapped to \"unlabeled\" --------------------------mapped\n",
    "  10: 1,     # \"car\"\n",
    "  11: 2,     # \"bicycle\"\n",
    "  13: 5,     # \"bus\" mapped to \"other-vehicle\" --------------------------mapped\n",
    "  15: 3,     # \"motorcycle\"\n",
    "  16: 5,     # \"on-rails\" mapped to \"other-vehicle\" ---------------------mapped\n",
    "  18: 4,     # \"truck\"\n",
    "  20: 5,     # \"other-vehicle\"\n",
    "  30: 6,     # \"person\"\n",
    "  31: 7,     # \"bicyclist\"\n",
    "  32: 8,     # \"motorcyclist\"\n",
    "  40: 9,     # \"road\"\n",
    "  44: 10,    # \"parking\"\n",
    "  48: 11,    # \"sidewalk\"\n",
    "  49: 12,    # \"other-ground\"\n",
    "  50: 13,    # \"building\"\n",
    "  51: 14,    # \"fence\"\n",
    "  52: 0,     # \"other-structure\" mapped to \"unlabeled\" ------------------mapped\n",
    "  60: 9,     # \"lane-marking\" to \"road\" ---------------------------------mapped\n",
    "  70: 15,    # \"vegetation\"\n",
    "  71: 16,    # \"trunk\"\n",
    "  72: 17,    # \"terrain\"\n",
    "  80: 18,    # \"pole\"\n",
    "  81: 19,    # \"traffic-sign\"\n",
    "  99: 0,     # \"other-object\" to \"unlabeled\" ----------------------------mapped\n",
    "  252: 1,    # \"moving-car\" to \"car\" ------------------------------------mapped\n",
    "  253: 7,    # \"moving-bicyclist\" to \"bicyclist\" ------------------------mapped\n",
    "  254: 6,    # \"moving-person\" to \"person\" ------------------------------mapped\n",
    "  255: 8,    # \"moving-motorcyclist\" to \"motorcyclist\" ------------------mapped\n",
    "  256: 5,    # \"moving-on-rails\" mapped to \"other-vehicle\" --------------mapped\n",
    "  257: 5,    # \"moving-bus\" mapped to \"other-vehicle\" -------------------mapped\n",
    "  258: 4,    # \"moving-truck\" to \"truck\" --------------------------------mapped\n",
    "  259: 5    # \"moving-other\"-vehicle to \"other-vehicle\" ----------------mapped\n",
    "}\n",
    "\n",
    "kitti_to_carla = {\n",
    "    0: 0,\n",
    "    1: 10,\n",
    "    2: 10,\n",
    "    3: 10,\n",
    "    4: 10,\n",
    "    5: 10,\n",
    "    6: 4,\n",
    "    7: 4,\n",
    "    8: 4,\n",
    "    9: 6,\n",
    "    10: 6,\n",
    "    11: 8,\n",
    "    12: 7,\n",
    "    13: 1,\n",
    "    14: 9,\n",
    "    15: 9,\n",
    "    16: 7,\n",
    "    17: 5,\n",
    "    18: 5,\n",
    "    19: 5\n",
    "}"
   ]
  },
  {
   "cell_type": "code",
   "execution_count": 3,
   "id": "e2fc60b3",
   "metadata": {},
   "outputs": [
    {
     "name": "stdout",
     "output_type": "stream",
     "text": [
      "{0: 0, 1: 0, 10: 10, 11: 10, 13: 10, 15: 10, 16: 10, 18: 10, 20: 10, 30: 4, 31: 4, 32: 4, 40: 6, 44: 6, 48: 8, 49: 7, 50: 1, 51: 9, 52: 0, 60: 6, 70: 9, 71: 7, 72: 5, 80: 5, 81: 5, 99: 0, 252: 10, 253: 4, 254: 4, 255: 4, 256: 10, 257: 10, 258: 10, 259: 10}\n"
     ]
    }
   ],
   "source": [
    "LABELS_REMAP = {}\n",
    "for i in learning_map.keys():\n",
    "    LABELS_REMAP[i] = kitti_to_carla[learning_map[i]]\n",
    "print(LABELS_REMAP)"
   ]
  },
  {
   "cell_type": "code",
   "execution_count": 4,
   "id": "75220f40",
   "metadata": {},
   "outputs": [
    {
     "name": "stdout",
     "output_type": "stream",
     "text": [
      "path: /home/tigeriv/Data/KITTI/dataset/sequences/08/voxels\n"
     ]
    }
   ],
   "source": [
    "sequence_path = \"/home/tigeriv/Data/KITTI/dataset/sequences/08\"\n",
    "file_path = os.path.join(sequence_path, \"voxels\")\n",
    "\n",
    "print(\"path:\", file_path)\n",
    "\n",
    "VISUALIZE = True\n",
    "SAVE = True\n",
    "TOP = True # get the top most label if true, otherwise get the most occuring labels"
   ]
  },
  {
   "cell_type": "code",
   "execution_count": 5,
   "id": "9c9a6279",
   "metadata": {},
   "outputs": [],
   "source": [
    "def unpack(compressed):\n",
    "    ''' given a bit encoded voxel grid, make a normal voxel grid out of it.  '''\n",
    "    uncompressed = np.zeros(compressed.shape[0] * 8, dtype=np.uint8)\n",
    "    uncompressed[::8] = compressed[:] >> 7 & 1\n",
    "    uncompressed[1::8] = compressed[:] >> 6 & 1\n",
    "    uncompressed[2::8] = compressed[:] >> 5 & 1\n",
    "    uncompressed[3::8] = compressed[:] >> 4 & 1\n",
    "    uncompressed[4::8] = compressed[:] >> 3 & 1\n",
    "    uncompressed[5::8] = compressed[:] >> 2 & 1\n",
    "    uncompressed[6::8] = compressed[:] >> 1 & 1\n",
    "    uncompressed[7::8] = compressed[:] & 1\n",
    "    return uncompressed\n",
    "\n",
    "# Form BEV\n",
    "def form_bev(labels, counts = None):\n",
    "    bev_map = np.zeros((eval_size[0], eval_size[1]))\n",
    "    bev_mask = np.sum(labels,axis=-1) != 0\n",
    "    bev_x,bev_y = np.where(bev_mask)\n",
    "    for i in range(bev_x.shape[0]):\n",
    "        x = bev_x[i]\n",
    "        y = bev_y[i]\n",
    "        if TOP:\n",
    "                lables_column = labels[x,y]\n",
    "                \n",
    "                mask_zero = lables_column != 0\n",
    "                mask = np.sum(mask_zero) >= 1\n",
    "                \n",
    "                if mask:\n",
    "                    indx = np.where(mask_zero)[0][-1]\n",
    "                    label_xy = labels[x,y,indx]\n",
    "                    remapped_xy = LABELS_REMAP[label_xy]\n",
    "                    bev_map[x, y] = remapped_xy\n",
    "            \n",
    "        else:\n",
    "            lables_column = labels[x,y]\n",
    "            max_labels = np.unique(lables_column)\n",
    "            if max_labels.shape[0] == 1 and max_labels[0] == 0:\n",
    "                label_xy = 0\n",
    "                remapped_xy = LABELS_REMAP[label_xy]\n",
    "            else:\n",
    "                label_xy = max_labels[1]\n",
    "                remapped_xy = LABELS_REMAP[label_xy]\n",
    "            \n",
    "            bev_map[x, y] = remapped_xy\n",
    "    return bev_map.astype(np.uint8)\n",
    "\n",
    "def plot_bev(bev_map):\n",
    "    plt.figure()\n",
    "    ax = sns.heatmap(bev_map, cmap=\"YlGnBu\", xticklabels=False, yticklabels=False)\n",
    "    ax.invert_yaxis()\n",
    "    ax.set_xlabel(\"X\")\n",
    "    ax.set_ylabel(\"Y\")\n",
    "    plt.show()\n",
    "    \n",
    "def bev_img(bev_map):\n",
    "    colored_data = LABEL_COLORS[bev_map.astype(int)]\n",
    "    img = im.fromarray(colored_data, 'RGB')\n",
    "    return img"
   ]
  },
  {
   "cell_type": "code",
   "execution_count": 6,
   "id": "c7b298f4",
   "metadata": {},
   "outputs": [
    {
     "name": "stderr",
     "output_type": "stream",
     "text": [
      " 58%|██████████████████████████████████████████████████████████████████████████████████████████████████████████████▎                                                                              | 1072/1837 [06:43<04:47,  2.66it/s]\n"
     ]
    },
    {
     "ename": "FileNotFoundError",
     "evalue": "[Errno 2] No such file or directory: '/home/tigeriv/Data/KITTI/dataset/sequences/08/voxels/001072.label'",
     "output_type": "error",
     "traceback": [
      "\u001b[0;31m---------------------------------------------------------------------------\u001b[0m",
      "\u001b[0;31mFileNotFoundError\u001b[0m                         Traceback (most recent call last)",
      "\u001b[0;32m/tmp/ipykernel_9958/1507193214.py\u001b[0m in \u001b[0;36m<module>\u001b[0;34m\u001b[0m\n\u001b[1;32m      6\u001b[0m     \u001b[0;32mfor\u001b[0m \u001b[0mi\u001b[0m \u001b[0;32min\u001b[0m \u001b[0mtqdm\u001b[0m\u001b[0;34m(\u001b[0m\u001b[0mrange\u001b[0m\u001b[0;34m(\u001b[0m\u001b[0mtotal_files\u001b[0m\u001b[0;34m)\u001b[0m\u001b[0;34m)\u001b[0m\u001b[0;34m:\u001b[0m\u001b[0;34m\u001b[0m\u001b[0;34m\u001b[0m\u001b[0m\n\u001b[1;32m      7\u001b[0m         \u001b[0mlabels_file\u001b[0m \u001b[0;34m=\u001b[0m \u001b[0mos\u001b[0m\u001b[0;34m.\u001b[0m\u001b[0mpath\u001b[0m\u001b[0;34m.\u001b[0m\u001b[0mjoin\u001b[0m\u001b[0;34m(\u001b[0m\u001b[0mfile_path\u001b[0m\u001b[0;34m,\u001b[0m \u001b[0mstr\u001b[0m\u001b[0;34m(\u001b[0m\u001b[0mi\u001b[0m\u001b[0;34m)\u001b[0m\u001b[0;34m.\u001b[0m\u001b[0mzfill\u001b[0m\u001b[0;34m(\u001b[0m\u001b[0;36m6\u001b[0m\u001b[0;34m)\u001b[0m \u001b[0;34m+\u001b[0m \u001b[0;34m\".label\"\u001b[0m\u001b[0;34m)\u001b[0m\u001b[0;34m\u001b[0m\u001b[0;34m\u001b[0m\u001b[0m\n\u001b[0;32m----> 8\u001b[0;31m         \u001b[0mlabels\u001b[0m \u001b[0;34m=\u001b[0m \u001b[0mnp\u001b[0m\u001b[0;34m.\u001b[0m\u001b[0mfromfile\u001b[0m\u001b[0;34m(\u001b[0m\u001b[0mlabels_file\u001b[0m\u001b[0;34m,\u001b[0m\u001b[0mdtype\u001b[0m\u001b[0;34m=\u001b[0m\u001b[0mnp\u001b[0m\u001b[0;34m.\u001b[0m\u001b[0muint16\u001b[0m\u001b[0;34m)\u001b[0m\u001b[0;34m.\u001b[0m\u001b[0mreshape\u001b[0m\u001b[0;34m(\u001b[0m\u001b[0meval_size\u001b[0m\u001b[0;34m)\u001b[0m\u001b[0;34m\u001b[0m\u001b[0;34m\u001b[0m\u001b[0m\n\u001b[0m\u001b[1;32m      9\u001b[0m         \u001b[0mbev_map\u001b[0m \u001b[0;34m=\u001b[0m \u001b[0mform_bev\u001b[0m\u001b[0;34m(\u001b[0m\u001b[0mlabels\u001b[0m\u001b[0;34m)\u001b[0m\u001b[0;34m\u001b[0m\u001b[0;34m\u001b[0m\u001b[0m\n\u001b[1;32m     10\u001b[0m         \u001b[0mimg\u001b[0m \u001b[0;34m=\u001b[0m \u001b[0mbev_img\u001b[0m\u001b[0;34m(\u001b[0m\u001b[0mbev_map\u001b[0m\u001b[0;34m)\u001b[0m\u001b[0;34m\u001b[0m\u001b[0;34m\u001b[0m\u001b[0m\n",
      "\u001b[0;31mFileNotFoundError\u001b[0m: [Errno 2] No such file or directory: '/home/tigeriv/Data/KITTI/dataset/sequences/08/voxels/001072.label'"
     ]
    }
   ],
   "source": [
    "if SAVE:\n",
    "    bev_path = os.path.join(sequence_path, \"bev_gt\")\n",
    "    if not os.path.exists(bev_path):\n",
    "        os.makedirs(bev_path)\n",
    "    total_files = int(len(os.listdir(file_path))/4)\n",
    "    for i in tqdm(range(total_files)):\n",
    "        labels_file = os.path.join(file_path, str(i).zfill(6) + \".label\")\n",
    "        labels = np.fromfile(labels_file,dtype=np.uint16).reshape(eval_size)\n",
    "        bev_map = form_bev(labels)\n",
    "        img = bev_img(bev_map)\n",
    "        save_path = os.path.join(bev_path, str(i) + \".jpg\")\n",
    "        img.save(save_path)"
   ]
  },
  {
   "cell_type": "code",
   "execution_count": null,
   "id": "fde23a04",
   "metadata": {},
   "outputs": [],
   "source": []
  }
 ],
 "metadata": {
  "kernelspec": {
   "display_name": "Python 3 (ipykernel)",
   "language": "python",
   "name": "python3"
  },
  "language_info": {
   "codemirror_mode": {
    "name": "ipython",
    "version": 3
   },
   "file_extension": ".py",
   "mimetype": "text/x-python",
   "name": "python",
   "nbconvert_exporter": "python",
   "pygments_lexer": "ipython3",
   "version": "3.8.10"
  }
 },
 "nbformat": 4,
 "nbformat_minor": 5
}
