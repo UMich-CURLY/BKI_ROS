{
 "cells": [
  {
   "cell_type": "code",
   "execution_count": 1,
   "id": "d8a9540d",
   "metadata": {},
   "outputs": [],
   "source": [
    "import numpy as np\n",
    "import os\n",
    "import seaborn as sns\n",
    "import matplotlib.pyplot as plt\n",
    "import time\n",
    "import torch\n",
    "\n",
    "from PIL import Image as im"
   ]
  },
  {
   "cell_type": "code",
   "execution_count": 2,
   "id": "3edc41da",
   "metadata": {},
   "outputs": [],
   "source": [
    "# file_path = \"/home/tigeriv/Data/Carla/Cartesian/Test/Town10_Medium/cartesian/ConvBKI/\"\n",
    "# file_path = \"/home/tigeriv/Data/KITTI/dataset/sequences/08/ConvBKIKITTI/\"\n",
    "file_path = \"/home/tigeriv/Data/KITTI/dataset/sequences/08/ConvBKIKITTI_Transfer/\"\n",
    "# eval_size = (256, 256, 64)\n",
    "\n",
    "KITTI_COLOR = True"
   ]
  },
  {
   "cell_type": "code",
   "execution_count": 3,
   "id": "79e75c2b",
   "metadata": {},
   "outputs": [],
   "source": [
    "def dirichlet_to_variance(dirichlet):\n",
    "    H, W, C = dirichlet.shape\n",
    "    dirichlet = dirichlet.reshape(H*W, C)\n",
    "    point_sums = np.sum(dirichlet, axis=-1, keepdims=False)\n",
    "    bev_map = np.argmax(dirichlet, axis=-1)\n",
    "    point_consts = np.amax(dirichlet, axis=-1) / point_sums\n",
    "    point_vars = point_consts * (1 - point_consts) / (1 + point_sums)\n",
    "    point_vars[point_sums == 0] = 0\n",
    "    bev_var = point_vars.reshape(H, W)\n",
    "    return bev_var\n",
    "\n",
    "def variance_to_color(bev_var, max_var=0.15):\n",
    "    H, W = bev_var.shape\n",
    "    flat_var = bev_var.reshape(-1)\n",
    "    # General function\n",
    "    R = 255 * flat_var/max_var\n",
    "    G = 255 * 0.7 * (1 - flat_var/max_var)\n",
    "    B = 255 * (1 - flat_var / max_var)\n",
    "    # Edge case\n",
    "    too_large = flat_var >= max_var\n",
    "    R[too_large] = 255\n",
    "    G[too_large] = 0\n",
    "    B[too_large] = 0\n",
    "    unseen = flat_var <= 0\n",
    "    R[unseen] = 255\n",
    "    G[unseen] = 255\n",
    "    B[unseen] = 255\n",
    "    colors = np.stack([R, G, B], axis=1)\n",
    "    colors = colors.reshape(H, W, 3).astype(np.uint8)\n",
    "    return colors"
   ]
  },
  {
   "cell_type": "code",
   "execution_count": null,
   "id": "7b7f8326",
   "metadata": {},
   "outputs": [],
   "source": []
  },
  {
   "cell_type": "code",
   "execution_count": 4,
   "id": "59bc9974",
   "metadata": {},
   "outputs": [],
   "source": [
    "# Form BEV\n",
    "def form_bev(labels, counts):\n",
    "    bev_map = np.zeros((eval_size[0], eval_size[1]))\n",
    "    for x in range(eval_size[0]):\n",
    "        for y in range(eval_size[1]):\n",
    "            label_xy = None\n",
    "            for z in range(eval_size[2]-1, -1, -1):\n",
    "                count_z = counts[x, y, z]\n",
    "                if count_z != 0 and labels[x, y, z] != 0:\n",
    "                    intersected = True\n",
    "                    label_xy = labels[x, y, z]\n",
    "                    break\n",
    "            if label_xy:\n",
    "                remapped_xy = LABELS_REMAP[label_xy]\n",
    "                bev_map[x, y] = remapped_xy\n",
    "    return bev_map\n",
    "\n",
    "def plot_bev(bev_map):\n",
    "    plt.figure()\n",
    "    ax = sns.heatmap(bev_map, cmap=\"YlGnBu\", xticklabels=False, yticklabels=False)\n",
    "    ax.invert_yaxis()\n",
    "    ax.set_xlabel(\"X\")\n",
    "    ax.set_ylabel(\"Y\")\n",
    "    plt.show()\n",
    "    \n",
    "def bev_img(bev_map):\n",
    "    colored_data = LABEL_COLORS[bev_map.astype(int)]\n",
    "    img = im.fromarray(colored_data, 'RGB')\n",
    "    return img\n",
    "\n",
    "def var_img(var_map):\n",
    "    img = im.fromarray(var_map, 'RGB')\n",
    "    return img"
   ]
  },
  {
   "cell_type": "code",
   "execution_count": 5,
   "id": "e1181b45",
   "metadata": {},
   "outputs": [
    {
     "name": "stderr",
     "output_type": "stream",
     "text": [
      "/tmp/ipykernel_2627229/4145357697.py:6: RuntimeWarning: invalid value encountered in true_divide\n",
      "  point_consts = np.amax(dirichlet, axis=-1) / point_sums\n"
     ]
    },
    {
     "ename": "FileNotFoundError",
     "evalue": "[Errno 2] No such file or directory: '/home/tigeriv/Data/KITTI/dataset/sequences/08/ConvBKIKITTI_Transfer/004071.bin'",
     "output_type": "error",
     "traceback": [
      "\u001b[0;31m---------------------------------------------------------------------------\u001b[0m",
      "\u001b[0;31mFileNotFoundError\u001b[0m                         Traceback (most recent call last)",
      "\u001b[0;32m/tmp/ipykernel_2627229/877565020.py\u001b[0m in \u001b[0;36m<module>\u001b[0;34m\u001b[0m\n\u001b[1;32m      5\u001b[0m     \u001b[0mprobs_file\u001b[0m \u001b[0;34m=\u001b[0m \u001b[0mos\u001b[0m\u001b[0;34m.\u001b[0m\u001b[0mpath\u001b[0m\u001b[0;34m.\u001b[0m\u001b[0mjoin\u001b[0m\u001b[0;34m(\u001b[0m\u001b[0mfile_path\u001b[0m\u001b[0;34m,\u001b[0m \u001b[0mstr\u001b[0m\u001b[0;34m(\u001b[0m\u001b[0mi\u001b[0m\u001b[0;34m)\u001b[0m\u001b[0;34m.\u001b[0m\u001b[0mzfill\u001b[0m\u001b[0;34m(\u001b[0m\u001b[0;36m6\u001b[0m\u001b[0;34m)\u001b[0m \u001b[0;34m+\u001b[0m \u001b[0;34m\".bin\"\u001b[0m\u001b[0;34m)\u001b[0m\u001b[0;34m\u001b[0m\u001b[0;34m\u001b[0m\u001b[0m\n\u001b[1;32m      6\u001b[0m \u001b[0;34m\u001b[0m\u001b[0m\n\u001b[0;32m----> 7\u001b[0;31m     \u001b[0mbev_preds\u001b[0m \u001b[0;34m=\u001b[0m \u001b[0mnp\u001b[0m\u001b[0;34m.\u001b[0m\u001b[0mfromfile\u001b[0m\u001b[0;34m(\u001b[0m\u001b[0mprobs_file\u001b[0m\u001b[0;34m,\u001b[0m \u001b[0mdtype\u001b[0m\u001b[0;34m=\u001b[0m\u001b[0mnp\u001b[0m\u001b[0;34m.\u001b[0m\u001b[0mfloat32\u001b[0m\u001b[0;34m)\u001b[0m\u001b[0;34m.\u001b[0m\u001b[0mreshape\u001b[0m\u001b[0;34m(\u001b[0m\u001b[0;36m256\u001b[0m\u001b[0;34m,\u001b[0m \u001b[0;36m256\u001b[0m\u001b[0;34m,\u001b[0m \u001b[0;36m11\u001b[0m\u001b[0;34m)\u001b[0m\u001b[0;34m\u001b[0m\u001b[0;34m\u001b[0m\u001b[0m\n\u001b[0m\u001b[1;32m      8\u001b[0m \u001b[0;34m\u001b[0m\u001b[0m\n\u001b[1;32m      9\u001b[0m     \u001b[0mbev_var\u001b[0m \u001b[0;34m=\u001b[0m \u001b[0mdirichlet_to_variance\u001b[0m\u001b[0;34m(\u001b[0m\u001b[0mbev_preds\u001b[0m\u001b[0;34m)\u001b[0m\u001b[0;34m\u001b[0m\u001b[0;34m\u001b[0m\u001b[0m\n",
      "\u001b[0;31mFileNotFoundError\u001b[0m: [Errno 2] No such file or directory: '/home/tigeriv/Data/KITTI/dataset/sequences/08/ConvBKIKITTI_Transfer/004071.bin'"
     ]
    }
   ],
   "source": [
    "save_dir = os.path.join(file_path, \"VAR\")\n",
    "if not os.path.exists(save_dir):\n",
    "    os.makedirs(save_dir)\n",
    "for i in range(0, 5000):\n",
    "    probs_file = os.path.join(file_path, str(i).zfill(6) + \".bin\")\n",
    "\n",
    "    bev_preds = np.fromfile(probs_file, dtype=np.float32).reshape(256, 256, 11)\n",
    "    \n",
    "    bev_var = dirichlet_to_variance(bev_preds)\n",
    "    # plot_bev(bev_var)\n",
    "    var_colored = variance_to_color(bev_var)\n",
    "\n",
    "    img = var_img(var_colored)\n",
    "    save_path = os.path.join(save_dir, str(i) + \".png\")\n",
    "    img.save(save_path)\n",
    "    "
   ]
  },
  {
   "cell_type": "code",
   "execution_count": null,
   "id": "72215b5c",
   "metadata": {},
   "outputs": [],
   "source": []
  },
  {
   "cell_type": "code",
   "execution_count": null,
   "id": "8a0e16de",
   "metadata": {},
   "outputs": [],
   "source": []
  },
  {
   "cell_type": "code",
   "execution_count": null,
   "id": "0697ab47",
   "metadata": {},
   "outputs": [],
   "source": []
  }
 ],
 "metadata": {
  "kernelspec": {
   "display_name": "Python 3 (ipykernel)",
   "language": "python",
   "name": "python3"
  },
  "language_info": {
   "codemirror_mode": {
    "name": "ipython",
    "version": 3
   },
   "file_extension": ".py",
   "mimetype": "text/x-python",
   "name": "python",
   "nbconvert_exporter": "python",
   "pygments_lexer": "ipython3",
   "version": "3.8.10"
  }
 },
 "nbformat": 4,
 "nbformat_minor": 5
}
